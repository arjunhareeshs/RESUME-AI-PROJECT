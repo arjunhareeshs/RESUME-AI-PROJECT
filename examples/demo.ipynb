{
  "cells": [
    {
      "cell_type": "code",
      "execution_count": null,
      "metadata": {},
      "outputs": [],
      "source": []
    },
    {
      "cell_type": "code",
      "execution_count": 7,
      "metadata": {},
      "outputs": [
        {
          "name": "stdout",
          "output_type": "stream",
          "text": [
            "✅ Text files saved to examples/sample_texts/\n"
          ]
        }
      ],
      "source": [
        "import json\n",
        "from pathlib import Path\n",
        "\n",
        "# Define output directory\n",
        "output_dir = Path(\"examples/sample_texts\")\n",
        "output_dir.mkdir(parents=True, exist_ok=True)\n",
        "\n",
        "# ✅ Use raw string for Windows path or forward slashes\n",
        "input_file = Path(r\"C:\\A I  - P R O J E C T S\\RESUME BUILDER AI\\extracted.jsonl\")\n",
        "\n",
        "# Read JSONL and save each record as .txt\n",
        "with open(input_file, \"r\", encoding=\"utf8\") as f:\n",
        "    for line in f:\n",
        "        record = json.loads(line)\n",
        "        name = Path(record[\"source\"]).stem + \".txt\"\n",
        "        (output_dir / name).write_text(record[\"text\"], encoding=\"utf8\")\n",
        "\n",
        "print(\"✅ Text files saved to examples/sample_texts/\")\n"
      ]
    }
  ],
  "metadata": {
    "kernelspec": {
      "display_name": "evenv",
      "language": "python",
      "name": "python3"
    },
    "language_info": {
      "codemirror_mode": {
        "name": "ipython",
        "version": 3
      },
      "file_extension": ".py",
      "mimetype": "text/x-python",
      "name": "python",
      "nbconvert_exporter": "python",
      "pygments_lexer": "ipython3",
      "version": "3.10.15"
    }
  },
  "nbformat": 4,
  "nbformat_minor": 2
}
